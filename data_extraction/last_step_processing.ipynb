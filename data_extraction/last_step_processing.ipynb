{
 "cells": [
  {
   "cell_type": "code",
   "execution_count": 1,
   "metadata": {},
   "outputs": [],
   "source": [
    "import pandas as pd\n",
    "import numpy as np"
   ]
  },
  {
   "cell_type": "code",
   "execution_count": 2,
   "metadata": {},
   "outputs": [],
   "source": [
    "data = pd.read_csv('./output/combined_wave1-18_A-N_validation_raking_tscore.csv', encoding = \"ISO-8859-1\", dtype=str, keep_default_na=False, na_values=['', 'nan', 'NA', 'NAN'])"
   ]
  },
  {
   "cell_type": "code",
   "execution_count": 3,
   "metadata": {
    "scrolled": true
   },
   "outputs": [
    {
     "name": "stderr",
     "output_type": "stream",
     "text": [
      "'pwd' is not recognized as an internal or external command,\n",
      "operable program or batch file.\n"
     ]
    }
   ],
   "source": [
    "!pwd"
   ]
  },
  {
   "cell_type": "code",
   "execution_count": 4,
   "metadata": {},
   "outputs": [],
   "source": [
    "core_sample_prlfc = pd.read_csv('./Working_Data/sample/core_sample_prlfc.csv', index_col=0)\n",
    "core_sample_conte = pd.read_csv('./Working_Data/sample/core_sample_conte.csv', index_col=0)\n",
    "wave_excluded_sample_conte = pd.read_csv('./Working_Data/sample/wave_excluded_sample_conte.csv', index_col=0)\n",
    "wave_excluded_sample_prlfc = pd.read_csv('./Working_Data/sample/wave_excluded_sample_prlfc.csv', index_col=0)\n",
    "low_comple_rate_sample_w1to8_conte = pd.read_csv('./Working_Data/sample/low_comple_rate_sample_w1to8_conte.csv', index_col=0)\n",
    "low_comple_rate_sample_w1to8_prlfc = pd.read_csv('./Working_Data/sample/low_comple_rate_sample_w1to8_prlfc.csv', index_col=0)\n"
   ]
  },
  {
   "cell_type": "code",
   "execution_count": 5,
   "metadata": {},
   "outputs": [],
   "source": [
    "def process(df, sample):\n",
    "    names = df.columns.tolist()\n",
    "    names[0] = 'PROLIFIC_PID'\n",
    "    df.columns = names\n",
    "    df['sample'] = sample\n",
    "    return df"
   ]
  },
  {
   "cell_type": "code",
   "execution_count": 6,
   "metadata": {},
   "outputs": [],
   "source": [
    "core_prlfc = process(core_sample_prlfc, 'core')\n",
    "core_conte = process(core_sample_conte, 'core')\n",
    "ex_prlfc = process(wave_excluded_sample_prlfc, 'excluded')\n",
    "ex_conte = process(wave_excluded_sample_conte, 'excluded')\n",
    "lc_prlfc = process(low_comple_rate_sample_w1to8_prlfc, 'low completion')\n",
    "lc_conte = process(low_comple_rate_sample_w1to8_conte, 'low completion')"
   ]
  },
  {
   "cell_type": "code",
   "execution_count": 7,
   "metadata": {},
   "outputs": [],
   "source": [
    "sample_info = pd.concat([core_prlfc, core_conte, ex_prlfc, ex_conte, lc_prlfc, lc_conte], axis=0)"
   ]
  },
  {
   "cell_type": "code",
   "execution_count": 8,
   "metadata": {},
   "outputs": [],
   "source": [
    "test = data.merge(sample_info, on='PROLIFIC_PID', how='left')"
   ]
  },
  {
   "cell_type": "code",
   "execution_count": 9,
   "metadata": {},
   "outputs": [],
   "source": [
    "# #master = pd.read_csv('output/Wave1-16_A-M.csv', encoding = \"ISO-8859-1\", dtype=str, keep_default_na=False, na_values=['','nan'], index_col=0)\n",
    "# prlf_valid = pd.read_csv('output/validation_passCriterion_perSub_perWave_w1-17_prlfc.csv', dtype=str)\n",
    "# conte_valid = pd.read_csv('output/validation_passCriterion_perSub_perWave_wA-N_conte.csv', dtype=str)\n",
    "# valid = pd.concat([prlf_valid, conte_valid], axis=0).reset_index(drop=True)\n",
    "# combined = test.merge(valid, how='left', on=['PROLIFIC_PID', 'wave'])"
   ]
  },
  {
   "cell_type": "code",
   "execution_count": 10,
   "metadata": {},
   "outputs": [],
   "source": [
    "test2 = test.fillna('NA')"
   ]
  },
  {
   "cell_type": "code",
   "execution_count": 11,
   "metadata": {},
   "outputs": [],
   "source": [
    "test2.to_csv('output/Wave1-18_A-N_release.csv', index=False)"
   ]
  },
  {
   "cell_type": "code",
   "execution_count": 12,
   "metadata": {},
   "outputs": [
    {
     "data": {
      "text/plain": [
       "(21247, 4093)"
      ]
     },
     "execution_count": 12,
     "metadata": {},
     "output_type": "execute_result"
    }
   ],
   "source": [
    "test2.shape"
   ]
  },
  {
   "cell_type": "code",
   "execution_count": 13,
   "metadata": {},
   "outputs": [
    {
     "data": {
      "text/plain": [
       "(21247, 4093)"
      ]
     },
     "execution_count": 13,
     "metadata": {},
     "output_type": "execute_result"
    }
   ],
   "source": [
    "test2.shape"
   ]
  },
  {
   "cell_type": "code",
   "execution_count": 14,
   "metadata": {},
   "outputs": [
    {
     "data": {
      "text/plain": [
       "20698    2.0\n",
       "20699    2.0\n",
       "20700    2.0\n",
       "20701    2.0\n",
       "20702    2.0\n",
       "        ... \n",
       "21242    1.0\n",
       "21243    2.0\n",
       "21244    2.0\n",
       "21245    2.0\n",
       "21246    2.0\n",
       "Name: DemW2, Length: 549, dtype: object"
      ]
     },
     "execution_count": 14,
     "metadata": {},
     "output_type": "execute_result"
    }
   ],
   "source": [
    "test2.loc[test2['wave']=='18', 'DemW2']"
   ]
  },
  {
   "cell_type": "markdown",
   "metadata": {},
   "source": [
    "# Clean up the variables that should not be included."
   ]
  },
  {
   "cell_type": "code",
   "execution_count": 15,
   "metadata": {},
   "outputs": [
    {
     "data": {
      "text/plain": [
       "0        NA\n",
       "1        NA\n",
       "2        NA\n",
       "3        NA\n",
       "4        NA\n",
       "         ..\n",
       "21242    NA\n",
       "21243    NA\n",
       "21244    NA\n",
       "21245    NA\n",
       "21246    NA\n",
       "Name: CCID, Length: 21247, dtype: object"
      ]
     },
     "execution_count": 15,
     "metadata": {},
     "output_type": "execute_result"
    }
   ],
   "source": [
    "test2['CCID']"
   ]
  },
  {
   "cell_type": "code",
   "execution_count": 16,
   "metadata": {},
   "outputs": [
    {
     "data": {
      "text/plain": [
       "0        5df82e8739bcde5dd044f741\n",
       "1        5c7e91c1973c990016ea72b0\n",
       "2        5e753094e8a6f10a9805ed9a\n",
       "3        5e67052c757e6149c38ce468\n",
       "4        5e7745990fd39b2a816ec341\n",
       "                   ...           \n",
       "21242    5a91877e777df200015fa0f5\n",
       "21243    5c65c10ff5ac570001b37b55\n",
       "21244    5e7377566cfd2c2bfadfe467\n",
       "21245    5d8d12f6d88e3a00142c9751\n",
       "21246    5e573ba5ad27610fa25300aa\n",
       "Name: PROLIFIC_PID, Length: 21247, dtype: object"
      ]
     },
     "execution_count": 16,
     "metadata": {},
     "output_type": "execute_result"
    }
   ],
   "source": [
    "test2['PROLIFIC_PID']"
   ]
  },
  {
   "cell_type": "code",
   "execution_count": 17,
   "metadata": {},
   "outputs": [],
   "source": [
    "rm_cols = ['EPII10.1_7_4',\"EPII10_7_1\",\"EPII10_7_2\",\"EPII7_1_1\",\"EPII7_1_2\",\"EPII7_2_1\",\"EPII7_2_2\",\"EPII9_8_1\",\"EPII9_8_2\",\"test\",\"CCID\", \"CCID_x\",\n",
    "           \"CCID_y\",\"RT_Black\",\"RT_White\",\"RT_Hispanic\",\"RT_Asian\",\"RT_Chinese\",\"RT_European\",\"RecordedDate\"]"
   ]
  },
  {
   "cell_type": "code",
   "execution_count": 28,
   "metadata": {},
   "outputs": [],
   "source": [
    "test3 = test2.drop(rm_cols, axis=1, errors='ignore')"
   ]
  },
  {
   "cell_type": "code",
   "execution_count": 29,
   "metadata": {},
   "outputs": [],
   "source": [
    "tmp = pd.read_csv('cols.csv', header=None)"
   ]
  },
  {
   "cell_type": "code",
   "execution_count": 30,
   "metadata": {},
   "outputs": [],
   "source": [
    "rm_cols = tmp[0].values"
   ]
  },
  {
   "cell_type": "code",
   "execution_count": 31,
   "metadata": {
    "scrolled": false
   },
   "outputs": [
    {
     "data": {
      "text/html": [
       "<div>\n",
       "<style scoped>\n",
       "    .dataframe tbody tr th:only-of-type {\n",
       "        vertical-align: middle;\n",
       "    }\n",
       "\n",
       "    .dataframe tbody tr th {\n",
       "        vertical-align: top;\n",
       "    }\n",
       "\n",
       "    .dataframe thead th {\n",
       "        text-align: right;\n",
       "    }\n",
       "</style>\n",
       "<table border=\"1\" class=\"dataframe\">\n",
       "  <thead>\n",
       "    <tr style=\"text-align: right;\">\n",
       "      <th></th>\n",
       "      <th>V3</th>\n",
       "      <th>V4</th>\n",
       "      <th>PROLIFIC_PID</th>\n",
       "      <th>TASK1</th>\n",
       "      <th>TASK2</th>\n",
       "      <th>TASK3</th>\n",
       "      <th>TASK4</th>\n",
       "      <th></th>\n",
       "      <th>DemW3</th>\n",
       "      <th>DemW5</th>\n",
       "      <th>...</th>\n",
       "      <th>amp_administered</th>\n",
       "      <th>biat_administered</th>\n",
       "      <th>nCompleted</th>\n",
       "      <th>perc_complete</th>\n",
       "      <th>agecats</th>\n",
       "      <th>rake_weights</th>\n",
       "      <th>STAI_State_Tscore</th>\n",
       "      <th>STAI_Trait_Tscore</th>\n",
       "      <th>BDI_total_range</th>\n",
       "      <th>sample</th>\n",
       "    </tr>\n",
       "  </thead>\n",
       "  <tbody>\n",
       "    <tr>\n",
       "      <th>0</th>\n",
       "      <td>4/5/20 10:40</td>\n",
       "      <td>4/5/20 11:24</td>\n",
       "      <td>5df82e8739bcde5dd044f741</td>\n",
       "      <td>cvd_pgg</td>\n",
       "      <td>pro_iat</td>\n",
       "      <td>cvd_amp</td>\n",
       "      <td>tr_1s</td>\n",
       "      <td>32</td>\n",
       "      <td>5.0</td>\n",
       "      <td>8.0</td>\n",
       "      <td>...</td>\n",
       "      <td>True</td>\n",
       "      <td>False</td>\n",
       "      <td>3.0</td>\n",
       "      <td>0.17647058823529413</td>\n",
       "      <td>NA</td>\n",
       "      <td>NA</td>\n",
       "      <td>55.0</td>\n",
       "      <td>65.0</td>\n",
       "      <td>NA</td>\n",
       "      <td>excluded</td>\n",
       "    </tr>\n",
       "    <tr>\n",
       "      <th>1</th>\n",
       "      <td>4/5/20 10:51</td>\n",
       "      <td>4/5/20 11:41</td>\n",
       "      <td>5c7e91c1973c990016ea72b0</td>\n",
       "      <td>cvd_amp</td>\n",
       "      <td>cvd_pgg</td>\n",
       "      <td>pro_iat</td>\n",
       "      <td>tr_1s</td>\n",
       "      <td>55</td>\n",
       "      <td>5.0</td>\n",
       "      <td>8.0</td>\n",
       "      <td>...</td>\n",
       "      <td>True</td>\n",
       "      <td>False</td>\n",
       "      <td>17.0</td>\n",
       "      <td>1.0</td>\n",
       "      <td>age55_59</td>\n",
       "      <td>1.15052051219556</td>\n",
       "      <td>92.0</td>\n",
       "      <td>80.0</td>\n",
       "      <td>NA</td>\n",
       "      <td>core</td>\n",
       "    </tr>\n",
       "    <tr>\n",
       "      <th>2</th>\n",
       "      <td>4/5/20 10:52</td>\n",
       "      <td>4/5/20 11:49</td>\n",
       "      <td>5e753094e8a6f10a9805ed9a</td>\n",
       "      <td>cvd_pgg</td>\n",
       "      <td>tr_1s</td>\n",
       "      <td>cvd_amp</td>\n",
       "      <td>pro_iat</td>\n",
       "      <td>64</td>\n",
       "      <td>49.0</td>\n",
       "      <td>7.0</td>\n",
       "      <td>...</td>\n",
       "      <td>True</td>\n",
       "      <td>False</td>\n",
       "      <td>16.0</td>\n",
       "      <td>0.9411764705882353</td>\n",
       "      <td>age60_100</td>\n",
       "      <td>2.48387225450803</td>\n",
       "      <td>54.0</td>\n",
       "      <td>49.0</td>\n",
       "      <td>NA</td>\n",
       "      <td>core</td>\n",
       "    </tr>\n",
       "    <tr>\n",
       "      <th>3</th>\n",
       "      <td>4/5/20 10:49</td>\n",
       "      <td>4/5/20 11:53</td>\n",
       "      <td>5e67052c757e6149c38ce468</td>\n",
       "      <td>cvd_amp</td>\n",
       "      <td>pro_iat</td>\n",
       "      <td>tr_1s</td>\n",
       "      <td>cvd_pgg</td>\n",
       "      <td>23</td>\n",
       "      <td>5.0</td>\n",
       "      <td>7.0</td>\n",
       "      <td>...</td>\n",
       "      <td>True</td>\n",
       "      <td>False</td>\n",
       "      <td>9.0</td>\n",
       "      <td>0.5294117647058824</td>\n",
       "      <td>age18_24</td>\n",
       "      <td>1.34368149096891</td>\n",
       "      <td>70.0</td>\n",
       "      <td>75.0</td>\n",
       "      <td>NA</td>\n",
       "      <td>core</td>\n",
       "    </tr>\n",
       "    <tr>\n",
       "      <th>4</th>\n",
       "      <td>4/5/20 10:56</td>\n",
       "      <td>4/5/20 11:55</td>\n",
       "      <td>5e7745990fd39b2a816ec341</td>\n",
       "      <td>cvd_amp</td>\n",
       "      <td>cvd_pgg</td>\n",
       "      <td>tr_1s</td>\n",
       "      <td>pro_iat</td>\n",
       "      <td>25</td>\n",
       "      <td>35.0</td>\n",
       "      <td>6.0</td>\n",
       "      <td>...</td>\n",
       "      <td>True</td>\n",
       "      <td>False</td>\n",
       "      <td>4.0</td>\n",
       "      <td>0.23529411764705882</td>\n",
       "      <td>NA</td>\n",
       "      <td>NA</td>\n",
       "      <td>71.0</td>\n",
       "      <td>68.0</td>\n",
       "      <td>NA</td>\n",
       "      <td>excluded</td>\n",
       "    </tr>\n",
       "    <tr>\n",
       "      <th>...</th>\n",
       "      <td>...</td>\n",
       "      <td>...</td>\n",
       "      <td>...</td>\n",
       "      <td>...</td>\n",
       "      <td>...</td>\n",
       "      <td>...</td>\n",
       "      <td>...</td>\n",
       "      <td>...</td>\n",
       "      <td>...</td>\n",
       "      <td>...</td>\n",
       "      <td>...</td>\n",
       "      <td>...</td>\n",
       "      <td>...</td>\n",
       "      <td>...</td>\n",
       "      <td>...</td>\n",
       "      <td>...</td>\n",
       "      <td>...</td>\n",
       "      <td>...</td>\n",
       "      <td>...</td>\n",
       "      <td>...</td>\n",
       "      <td>...</td>\n",
       "    </tr>\n",
       "    <tr>\n",
       "      <th>21242</th>\n",
       "      <td>12/16/21 5:29</td>\n",
       "      <td>12/16/21 6:22</td>\n",
       "      <td>5a91877e777df200015fa0f5</td>\n",
       "      <td>0</td>\n",
       "      <td>0</td>\n",
       "      <td>0</td>\n",
       "      <td>0</td>\n",
       "      <td>NA</td>\n",
       "      <td>33.0</td>\n",
       "      <td>3.0</td>\n",
       "      <td>...</td>\n",
       "      <td>NA</td>\n",
       "      <td>NA</td>\n",
       "      <td>NA</td>\n",
       "      <td>NA</td>\n",
       "      <td>age60_100</td>\n",
       "      <td>2.48387225450803</td>\n",
       "      <td>36.0</td>\n",
       "      <td>36.0</td>\n",
       "      <td>1.0</td>\n",
       "      <td>core</td>\n",
       "    </tr>\n",
       "    <tr>\n",
       "      <th>21243</th>\n",
       "      <td>12/16/21 7:27</td>\n",
       "      <td>12/16/21 8:11</td>\n",
       "      <td>5c65c10ff5ac570001b37b55</td>\n",
       "      <td>0</td>\n",
       "      <td>0</td>\n",
       "      <td>0</td>\n",
       "      <td>0</td>\n",
       "      <td>NA</td>\n",
       "      <td>NA</td>\n",
       "      <td>NA</td>\n",
       "      <td>...</td>\n",
       "      <td>NA</td>\n",
       "      <td>NA</td>\n",
       "      <td>NA</td>\n",
       "      <td>NA</td>\n",
       "      <td>age45_49</td>\n",
       "      <td>0.317344417278469</td>\n",
       "      <td>45.0</td>\n",
       "      <td>50.0</td>\n",
       "      <td>1.0</td>\n",
       "      <td>core</td>\n",
       "    </tr>\n",
       "    <tr>\n",
       "      <th>21244</th>\n",
       "      <td>12/16/21 11:14</td>\n",
       "      <td>12/16/21 12:26</td>\n",
       "      <td>5e7377566cfd2c2bfadfe467</td>\n",
       "      <td>0</td>\n",
       "      <td>0</td>\n",
       "      <td>0</td>\n",
       "      <td>0</td>\n",
       "      <td>NA</td>\n",
       "      <td>NA</td>\n",
       "      <td>NA</td>\n",
       "      <td>...</td>\n",
       "      <td>NA</td>\n",
       "      <td>NA</td>\n",
       "      <td>NA</td>\n",
       "      <td>NA</td>\n",
       "      <td>age50_54</td>\n",
       "      <td>3.42922104099726</td>\n",
       "      <td>46.0</td>\n",
       "      <td>39.0</td>\n",
       "      <td>1.0</td>\n",
       "      <td>core</td>\n",
       "    </tr>\n",
       "    <tr>\n",
       "      <th>21245</th>\n",
       "      <td>12/16/21 13:38</td>\n",
       "      <td>12/16/21 14:14</td>\n",
       "      <td>5d8d12f6d88e3a00142c9751</td>\n",
       "      <td>0</td>\n",
       "      <td>0</td>\n",
       "      <td>0</td>\n",
       "      <td>0</td>\n",
       "      <td>NA</td>\n",
       "      <td>NA</td>\n",
       "      <td>NA</td>\n",
       "      <td>...</td>\n",
       "      <td>NA</td>\n",
       "      <td>NA</td>\n",
       "      <td>NA</td>\n",
       "      <td>NA</td>\n",
       "      <td>age35_39</td>\n",
       "      <td>2.64424194415564</td>\n",
       "      <td>55.0</td>\n",
       "      <td>58.0</td>\n",
       "      <td>1.0</td>\n",
       "      <td>core</td>\n",
       "    </tr>\n",
       "    <tr>\n",
       "      <th>21246</th>\n",
       "      <td>12/17/21 12:10</td>\n",
       "      <td>12/17/21 13:32</td>\n",
       "      <td>5e573ba5ad27610fa25300aa</td>\n",
       "      <td>0</td>\n",
       "      <td>0</td>\n",
       "      <td>0</td>\n",
       "      <td>0</td>\n",
       "      <td>NA</td>\n",
       "      <td>NA</td>\n",
       "      <td>NA</td>\n",
       "      <td>...</td>\n",
       "      <td>NA</td>\n",
       "      <td>NA</td>\n",
       "      <td>NA</td>\n",
       "      <td>NA</td>\n",
       "      <td>age18_24</td>\n",
       "      <td>1.19902074203045</td>\n",
       "      <td>35.0</td>\n",
       "      <td>37.0</td>\n",
       "      <td>1.0</td>\n",
       "      <td>core</td>\n",
       "    </tr>\n",
       "  </tbody>\n",
       "</table>\n",
       "<p>21247 rows × 3866 columns</p>\n",
       "</div>"
      ],
      "text/plain": [
       "                   V3              V4              PROLIFIC_PID    TASK1  \\\n",
       "0        4/5/20 10:40    4/5/20 11:24  5df82e8739bcde5dd044f741  cvd_pgg   \n",
       "1        4/5/20 10:51    4/5/20 11:41  5c7e91c1973c990016ea72b0  cvd_amp   \n",
       "2        4/5/20 10:52    4/5/20 11:49  5e753094e8a6f10a9805ed9a  cvd_pgg   \n",
       "3        4/5/20 10:49    4/5/20 11:53  5e67052c757e6149c38ce468  cvd_amp   \n",
       "4        4/5/20 10:56    4/5/20 11:55  5e7745990fd39b2a816ec341  cvd_amp   \n",
       "...               ...             ...                       ...      ...   \n",
       "21242   12/16/21 5:29   12/16/21 6:22  5a91877e777df200015fa0f5        0   \n",
       "21243   12/16/21 7:27   12/16/21 8:11  5c65c10ff5ac570001b37b55        0   \n",
       "21244  12/16/21 11:14  12/16/21 12:26  5e7377566cfd2c2bfadfe467        0   \n",
       "21245  12/16/21 13:38  12/16/21 14:14  5d8d12f6d88e3a00142c9751        0   \n",
       "21246  12/17/21 12:10  12/17/21 13:32  5e573ba5ad27610fa25300aa        0   \n",
       "\n",
       "         TASK2    TASK3    TASK4     DemW3 DemW5  ... amp_administered  \\\n",
       "0      pro_iat  cvd_amp    tr_1s  32   5.0   8.0  ...             True   \n",
       "1      cvd_pgg  pro_iat    tr_1s  55   5.0   8.0  ...             True   \n",
       "2        tr_1s  cvd_amp  pro_iat  64  49.0   7.0  ...             True   \n",
       "3      pro_iat    tr_1s  cvd_pgg  23   5.0   7.0  ...             True   \n",
       "4      cvd_pgg    tr_1s  pro_iat  25  35.0   6.0  ...             True   \n",
       "...        ...      ...      ...  ..   ...   ...  ...              ...   \n",
       "21242        0        0        0  NA  33.0   3.0  ...               NA   \n",
       "21243        0        0        0  NA    NA    NA  ...               NA   \n",
       "21244        0        0        0  NA    NA    NA  ...               NA   \n",
       "21245        0        0        0  NA    NA    NA  ...               NA   \n",
       "21246        0        0        0  NA    NA    NA  ...               NA   \n",
       "\n",
       "      biat_administered nCompleted        perc_complete    agecats  \\\n",
       "0                 False        3.0  0.17647058823529413         NA   \n",
       "1                 False       17.0                  1.0   age55_59   \n",
       "2                 False       16.0   0.9411764705882353  age60_100   \n",
       "3                 False        9.0   0.5294117647058824   age18_24   \n",
       "4                 False        4.0  0.23529411764705882         NA   \n",
       "...                 ...        ...                  ...        ...   \n",
       "21242                NA         NA                   NA  age60_100   \n",
       "21243                NA         NA                   NA   age45_49   \n",
       "21244                NA         NA                   NA   age50_54   \n",
       "21245                NA         NA                   NA   age35_39   \n",
       "21246                NA         NA                   NA   age18_24   \n",
       "\n",
       "            rake_weights STAI_State_Tscore STAI_Trait_Tscore BDI_total_range  \\\n",
       "0                     NA              55.0              65.0              NA   \n",
       "1       1.15052051219556              92.0              80.0              NA   \n",
       "2       2.48387225450803              54.0              49.0              NA   \n",
       "3       1.34368149096891              70.0              75.0              NA   \n",
       "4                     NA              71.0              68.0              NA   \n",
       "...                  ...               ...               ...             ...   \n",
       "21242   2.48387225450803              36.0              36.0             1.0   \n",
       "21243  0.317344417278469              45.0              50.0             1.0   \n",
       "21244   3.42922104099726              46.0              39.0             1.0   \n",
       "21245   2.64424194415564              55.0              58.0             1.0   \n",
       "21246   1.19902074203045              35.0              37.0             1.0   \n",
       "\n",
       "         sample  \n",
       "0      excluded  \n",
       "1          core  \n",
       "2          core  \n",
       "3          core  \n",
       "4      excluded  \n",
       "...         ...  \n",
       "21242      core  \n",
       "21243      core  \n",
       "21244      core  \n",
       "21245      core  \n",
       "21246      core  \n",
       "\n",
       "[21247 rows x 3866 columns]"
      ]
     },
     "execution_count": 31,
     "metadata": {},
     "output_type": "execute_result"
    }
   ],
   "source": [
    "test3.drop(rm_cols, axis=1, errors='ignore')"
   ]
  },
  {
   "cell_type": "code",
   "execution_count": 32,
   "metadata": {},
   "outputs": [
    {
     "data": {
      "text/plain": [
       "[0        False\n",
       " 1        False\n",
       " 2        False\n",
       " 3        False\n",
       " 4        False\n",
       "          ...  \n",
       " 21242     True\n",
       " 21243     True\n",
       " 21244     True\n",
       " 21245     True\n",
       " 21246     True\n",
       " Name: wave, Length: 21247, dtype: bool]"
      ]
     },
     "execution_count": 32,
     "metadata": {},
     "output_type": "execute_result"
    }
   ],
   "source": [
    "[(test3['wave']=='17') | (test['wave']=='18')]"
   ]
  },
  {
   "cell_type": "code",
   "execution_count": 33,
   "metadata": {},
   "outputs": [],
   "source": [
    "test3.loc[((test3['wave']=='17') | (test['wave']=='18')),'V5'] = '1'"
   ]
  },
  {
   "cell_type": "code",
   "execution_count": 34,
   "metadata": {},
   "outputs": [
    {
     "data": {
      "text/plain": [
       "20031    1\n",
       "20032    1\n",
       "20033    1\n",
       "20034    1\n",
       "20035    1\n",
       "        ..\n",
       "20665    1\n",
       "20666    1\n",
       "20667    1\n",
       "20668    1\n",
       "20669    1\n",
       "Name: V5, Length: 639, dtype: object"
      ]
     },
     "execution_count": 34,
     "metadata": {},
     "output_type": "execute_result"
    }
   ],
   "source": [
    "test3.loc[test3['wave']=='17','V5']"
   ]
  },
  {
   "cell_type": "code",
   "execution_count": 42,
   "metadata": {},
   "outputs": [],
   "source": [
    "test3.to_csv('output/Wave1-18_A-N_release.csv', index=False)"
   ]
  },
  {
   "cell_type": "code",
   "execution_count": 40,
   "metadata": {},
   "outputs": [
    {
     "data": {
      "text/plain": [
       "array(['1', '10', '11', '12', '13', '14', '15', '15b', '16', '2', '3',\n",
       "       '4', '5', '6', '7', '8', '9', 'A', 'B', 'C', 'D', 'E', 'F', 'G',\n",
       "       'H', 'I', 'J', 'K', 'L', 'M', 'N'], dtype=object)"
      ]
     },
     "execution_count": 40,
     "metadata": {},
     "output_type": "execute_result"
    }
   ],
   "source": [
    "np.unique(test3.loc[~((test3['wave']=='17') | (test['wave']=='18')),'wave'])"
   ]
  },
  {
   "cell_type": "code",
   "execution_count": 43,
   "metadata": {},
   "outputs": [],
   "source": [
    "test3.loc[~((test3['wave']=='17') | (test['wave']=='18') | (test['wave']=='N')),].to_csv('output/Wave1-16_A-M_release.csv', index=False)"
   ]
  },
  {
   "cell_type": "code",
   "execution_count": null,
   "metadata": {},
   "outputs": [],
   "source": []
  }
 ],
 "metadata": {
  "kernelspec": {
   "display_name": "Python 3",
   "language": "python",
   "name": "python3"
  },
  "language_info": {
   "codemirror_mode": {
    "name": "ipython",
    "version": 3
   },
   "file_extension": ".py",
   "mimetype": "text/x-python",
   "name": "python",
   "nbconvert_exporter": "python",
   "pygments_lexer": "ipython3",
   "version": "3.9.5"
  }
 },
 "nbformat": 4,
 "nbformat_minor": 4
}
